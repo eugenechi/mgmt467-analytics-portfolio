{
  "cells": [
    {
      "cell_type": "markdown",
      "metadata": {
        "id": "view-in-github",
        "colab_type": "text"
      },
      "source": [
        "<a href=\"https://colab.research.google.com/github/eugenechi/mgmt467-analytics-portfolio/blob/main/Week2_1_Prompt_Practice_(1).ipynb\" target=\"_parent\"><img src=\"https://colab.research.google.com/assets/colab-badge.svg\" alt=\"Open In Colab\"/></a>"
      ]
    },
    {
      "cell_type": "markdown",
      "id": "eebaff9c",
      "metadata": {
        "id": "eebaff9c"
      },
      "source": [
        "\n",
        "# Week 2.1 — Prompt Practice: Git, GitHub, and Google Colab\n",
        "\n",
        "**Course:** MGMT 467 — AI‑Assisted Big Data Analytics in the Cloud  \n",
        "**Session:** Tuesday (2.1) — Developer Environment Setup\n",
        "\n",
        "### How to use this notebook\n",
        "- This is a **practice and planning** notebook: most cells are **Markdown** with copy‑pasteable prompt templates you will run in your AI tool (e.g., Gemini).  \n",
        "- After you run a prompt in your AI tool, **summarize what you learned** in the provided **Reflection** cells here.  \n",
        "- When a task asks for a short code snippet (e.g., Git or Colab), paste the **final, validated** snippet in the designated cell and add a one‑sentence explanation.\n",
        "\n",
        "> **Validate everything.** Cross‑check AI outputs with official docs or a second prompt. If two sources disagree, note it and explain which you chose and why.\n"
      ]
    },
    {
      "cell_type": "markdown",
      "id": "de4883d8",
      "metadata": {
        "id": "de4883d8"
      },
      "source": [
        "\n",
        "---\n",
        "## Prompt Patterns Quick Reference\n",
        "\n",
        "Use these as starting points and **adapt** them to your context.\n",
        "\n",
        "### 1) Zero‑Shot (definition/explanation)\n",
        "```\n",
        "Act as a clear, concise tutor for first‑year CS students.\n",
        "Explain {TOPIC} in 5 bullet points max. Include one analogy and one pitfall to avoid.\n",
        "```\n",
        "\n",
        "### 2) Few‑Shot (guided answers consistent with examples)\n",
        "```\n",
        "You will answer in the same style as the examples.\n",
        "\n",
        "Q: What is a \"commit\" in Git?  \n",
        "A: A snapshot of tracked file changes with a message explaining why.\n",
        "\n",
        "Q: What is \"pushing\" in Git?  \n",
        "A: Sending local commits to a remote repository so others can see them.\n",
        "\n",
        "Q: {YOUR QUESTION}\n",
        "A:\n",
        "```\n",
        "\n",
        "### 3) Step‑by‑Step Reasoning (show key steps)\n",
        "```\n",
        "I need a **numbered, step‑by‑step plan** for {TASK}.\n",
        "For each step: the goal, one command (if applicable), and a 1‑line verification check.\n",
        "Avoid hidden steps; keep it to 6–8 steps total.\n",
        "```\n"
      ]
    },
    {
      "cell_type": "markdown",
      "id": "3f07055e",
      "metadata": {
        "id": "3f07055e"
      },
      "source": [
        "\n",
        "---\n",
        "## Group A — Git Fundamentals (3 questions)\n",
        "\n",
        "### A1. What problem does Git solve? How is it different from file syncing?\n",
        "**Use:** Zero‑Shot, then Few‑Shot for refinement.  \n",
        "**Run this prompt:**\n",
        "```\n",
        "Act as a version control coach.\n",
        "Explain what Git is and the specific problem it solves compared to simple file syncing (e.g., Drive).\n",
        "List 3 concrete benefits for a small analytics team.\n",
        "End with a 2‑sentence analogy.\n",
        "\n",
        "Q: What is Git and what does it solve?\n",
        "A: A distributed version control system that records point-in-time snapshots (“commits”) of your project, lets people work in parallel on branches, and then merges changes with a full, searchable history.\n",
        "\n",
        "Reproducibility: Pin notebooks/SQL/env files to a commit or tag so last week’s model run can be re-created exactly; bisect history to find when a metric drift started.\n",
        "\n",
        "Safe experimentation: Create a branch for a new feature or model, get diff-based code review in a PR, and merge without breaking main.\n",
        "\n",
        "Traceability & speed: Use blame/diffs to see who changed a metric definition and why; conflicts are explicit (no silent overwrites), which reduces debugging time.\n",
        "\n",
        "Analogy: Drive is like one shared Google Doc everyone edits at once—quick, but easy to trip over each other. Git is like each teammate drafting in their own notebook, then a librarian merges the best parts and archives every edition forever.\n",
        "```\n",
        "**Reflection (2–4 sentences):** What did you learn that you didn’t already know?\n",
        "\n",
        "I used to think Drive style syncing and Git were basically the same, but I learned Git is built for true concurrent work—tracking changes line by line with authorship and safe branching/merging. I also didn’t realize how commits/tags plus env files make analyses reproducible and how blame/diff can pinpoint when a metric definition changed."
      ]
    },
    {
      "cell_type": "markdown",
      "id": "b364c38d",
      "metadata": {
        "id": "b364c38d"
      },
      "source": [
        "\n",
        "### A2. Commit → Branch → Merge: the minimal workflow\n",
        "**Use:** Step‑by‑Step Reasoning.  \n",
        "**Run this prompt:**\n",
        "```\n",
        "Create a minimal, step‑by‑step workflow to:\n",
        "1) initialize a repo, 2) create and switch to a feature branch, 3) commit changes,\n",
        "4) merge back to main locally, 5) push to a remote named \"origin\".\n",
        "For each step include: goal, command, and a quick verification.\n",
        "```\n",
        "**Paste final validated commands below and add one sentence on when to branch.**\n"
      ]
    },
    {
      "cell_type": "code",
      "execution_count": null,
      "id": "7fe63d5f",
      "metadata": {
        "id": "7fe63d5f"
      },
      "outputs": [],
      "source": [
        "\n",
        "# Paste your validated minimal Git workflow commands here as comments, e.g.:\n",
        "# git init\n",
        "# git checkout -b feature/readme-polish\n",
        "# git add README.md\n",
        "# git commit -m \"Clarify setup steps\"\n",
        "# git checkout main\n",
        "# git merge feature/readme-polish --no-ff\n",
        "# git remote add origin <REMOTE_URL>\n",
        "# git push -u origin main\n",
        "\n",
        "# git init -b main\n",
        "# git remote add origin <REMOTE_URL>\n",
        "# git switch -c feature/readme-polish\n",
        "# git add README.md\n",
        "# git commit -m \"Clarify setup steps\"\n",
        "# git switch main\n",
        "# git merge feature/readme-polish --no-ff\n",
        "# git push -u origin main\n",
        "When to branch: Create a new branch before you start any scoped change (feature, bug fix, or doc tweak) so your work stays isolated and reviewable."
      ]
    },
    {
      "cell_type": "markdown",
      "id": "39cd8eba",
      "metadata": {
        "id": "39cd8eba"
      },
      "source": [
        "\n",
        "### A3. Resolving a simple merge conflict\n",
        "**Use:** Step‑by‑Step Reasoning.  \n",
        "**Run this prompt:**\n",
        "```\n",
        "I have a merge conflict in README.md after merging a feature branch into main.\n",
        "Give a 6-step recipe to resolve it safely:\n",
        "- how to open the file, identify conflict markers, choose/merge lines,\n",
        "- add/commit the resolution, verify the merge, and push.\n",
        "Include one common pitfall and how to avoid it.\n",
        "\n",
        "Confirm the conflict\n",
        "Goal: See unmerged files.\n",
        "\n",
        "Open and resolve content\n",
        "Goal: Inspect markers and choose/merge correct lines.\n",
        "\n",
        "Stage the resolution\n",
        "Goal: Mark the conflict as resolved.\n",
        "\n",
        "Create the merge commit\n",
        "Goal: Finalize the merge.\n",
        "\n",
        "Double-check the result\n",
        "Goal: Ensure the repo is clean and content is correct.\n",
        "\n",
        "Push the resolved merge\n",
        "Goal: Publish the fix.\n",
        "\n",
        "Common pitfall (and fix): Blindly accepting one side (“ours/theirs”) drops changes—always manually merge, remove all markers, and skim the final README.md before staging.\n",
        "```\n",
        "**Reflection:** What’s your personal checklist to avoid conflicts getting messy?\n",
        "Pull/rebase main before starting, keep branches short and commits small, run tests/linters, resolve carefully and search for leftover <<<<<<<, then re-read diffs once more before pushing."
      ]
    },
    {
      "cell_type": "markdown",
      "id": "6028ce17",
      "metadata": {
        "id": "6028ce17"
      },
      "source": [
        "\n",
        "---\n",
        "## Group B — GitHub Collaboration (3 questions)\n",
        "\n",
        "### B1. Branch vs. Fork vs. Clone\n",
        "**Use:** Few‑Shot to drive crisp distinctions with examples.  \n",
        "**Run this prompt:**\n",
        "```\n",
        "Answer using this format:\n",
        "Term — One-sentence definition — When to use — One example.\n",
        "\n",
        "Branch —\n",
        "Fork —\n",
        "Clone —\n",
        "\n",
        "Branch — A separate line of development within a single repository. — Use when working on a new feature or bug fix without affecting the main project. — git checkout -b feature/my-new-feature\n",
        "Fork — A copy of a repository under a different user's account. — Use when you want to contribute to a project you don't have push access to, or to use a project as a starting point for your own. — Creating a fork on GitHub.\n",
        "Clone — Creating a local copy of a remote repository. — Use to get a working copy of a repository onto your local machine. — git clone <repository_url>\n",
        "```\n",
        "**Reflection:** Which one will your team use for this course and why?\n",
        "\n",
        "We will experiment and see which is the most optimal for our team. At the moment, branch seems to make the most sense.\n"
      ]
    },
    {
      "cell_type": "markdown",
      "id": "2c819dea",
      "metadata": {
        "id": "2c819dea"
      },
      "source": [
        "\n",
        "### B2. Pull Request (PR) checklist for this course\n",
        "**Use:** Step‑by‑Step Reasoning.  \n",
        "**Run this prompt:**\n",
        "```\n",
        "Write a \"PR Checklist\" for a university analytics course team repo.\n",
        "Include: naming convention, description template, screenshots policy, reviewers, CI checks (if any),\n",
        "and a revert plan. Limit to 8 concise checklist items.\n",
        "```\n",
        "**Paste your final checklist below.**\n"
      ]
    },
    {
      "cell_type": "code",
      "execution_count": null,
      "id": "dd5e9adb",
      "metadata": {
        "id": "dd5e9adb"
      },
      "outputs": [],
      "source": [
        "# Example (edit to your team's needs)\n",
        "pr_checklist = [\n",
        "    \"PR title: <unit>-<lab>-<short-desc> (e.g., u1-lab2-eda-trends)\",\n",
        "    \"Description includes: problem, approach, key files, and how to test\",\n",
        "    \"Attach 1–2 screenshots (plots/dashboards) if visuals changed\",\n",
        "    \"Link related issue or assignment requirement\",\n",
        "    \"Request review from 1 teammate; no self-merge\",\n",
        "    \"Passes notebook re-run without errors (Runtime > Run all)\",\n",
        "    \"No secrets, tokens, or PII in code or outputs\",\n",
        "    \"Revert plan: how to roll back quickly if needed\"\n",
        "]\n",
        "pr_checklist"
      ]
    },
    {
      "cell_type": "markdown",
      "id": "3be4b08d",
      "metadata": {
        "id": "3be4b08d"
      },
      "source": [
        "\n",
        "### B3. Protected `main` workflow\n",
        "**Use:** Zero‑Shot + Step‑by‑Step.  \n",
        "**Run this prompt:**\n",
        "```\n",
        "Explain how to protect the main branch in a GitHub repo for a class team:\n",
        "- Require PRs, at least one review, and passing checks\n",
        "- Disallow force-pushes\n",
        "Provide a numbered setup guide and a 3-line \"why this matters\" explanation.\n",
        "\n",
        "Go to your repository on GitHub.\n",
        "Click on Settings.\n",
        "In the left sidebar, click on Branches.\n",
        "Under \"Branch protection rules\", click Add rule.\n",
        "In the \"Branch name pattern\" field, type main.\n",
        "Check the box for Require pull request reviews before merging.\n",
        "Set \"Required approving reviews\" to 1.\n",
        "(Optional) Check the box for Require status checks to pass before merging. You would need to set up CI checks (like running tests or linters) for this to be effective.\n",
        "Check the box for Include administrators.\n",
        "Check the box for Require linear history.\n",
        "Check the box for Do not allow bypassing the above settings.\n",
        "Click Create.\n",
        "```\n",
        "**Reflection:** Which protection rules will you actually enable first, and why?\n",
        "\n",
        "I would first enable restrict deletion because of the fact that protecting and preserving your work is the most important."
      ]
    },
    {
      "cell_type": "markdown",
      "id": "8d94b30a",
      "metadata": {
        "id": "8d94b30a"
      },
      "source": [
        "\n",
        "---\n",
        "## Group C — Google Colab for Analytics (3 questions)\n",
        "\n",
        "### C1. Why Colab? Benefits & limits for this course\n",
        "**Use:** Zero‑Shot.  \n",
        "**Run this prompt:**\n",
        "```\n",
        "Act as a data science tech advisor.\n",
        "List 5 advantages and 3 limitations of Google Colab for analytics coursework.\n",
        "Tailor to a class that uses BigQuery and dashboards. Keep it to bullet points.\n",
        "\n",
        "Advantages:\n",
        "Free access to GPUs/TPUs: Accelerates computation for machine learning tasks.\n",
        "Pre-installed libraries: Many common data science libraries are already available.\n",
        "Easy sharing and collaboration: Notebooks can be easily shared and worked on collaboratively.\n",
        "Integration with Google Drive and BigQuery: Seamless access to data stored in Drive and easy querying of BigQuery data.\n",
        "No setup required: No need to install Python or libraries locally.\n",
        "\n",
        "Limitations:\n",
        "Session limits: Sessions have usage limits and can time out.\n",
        "Dependency on internet connection: Requires a stable internet connection to work.\n",
        "Limited storage: Free tier has limited storage space.\n",
        "```\n",
        "**Reflection:** Which two advantages will help *you* most this semester?\n",
        "\n",
        "Colab being able to connect directly to drive and being a web notebook makes it extremely easy to use. I know for a fact it will save me a lot of time over the semester."
      ]
    },
    {
      "cell_type": "markdown",
      "id": "1b96debe",
      "metadata": {
        "id": "1b96debe"
      },
      "source": [
        "\n",
        "### C2. Authenticate to GCP in Colab and query BigQuery\n",
        "**Use:** Step‑by‑Step Reasoning for a minimal working snippet.  \n",
        "**Run this prompt:**\n",
        "```\n",
        "Provide a minimal Colab snippet to:\n",
        "1) authenticate to Google Cloud,\n",
        "2) run a simple BigQuery SQL (e.g., SELECT 1),\n",
        "3) get results into a pandas DataFrame,\n",
        "4) print row count.\n",
        "Include a one-line note on costs and safe use of LIMIT.\n",
        "```\n",
        "**Paste your final validated code below.**\n"
      ]
    },
    {
      "cell_type": "markdown",
      "source": [],
      "metadata": {
        "id": "eU9TprttBCM1"
      },
      "id": "eU9TprttBCM1"
    },
    {
      "cell_type": "code",
      "execution_count": 3,
      "id": "5d389386",
      "metadata": {
        "id": "5d389386"
      },
      "outputs": [],
      "source": [
        "\n",
        "# Minimal BigQuery test in Colab (paste your validated version)\n",
        "# from google.colab import auth\n",
        "# auth.authenticate_user()\n",
        "#\n",
        "# from google.cloud import bigquery\n",
        "# client = bigquery.Client(project=\"<YOUR_PROJECT_ID>\")\n",
        "# sql = \"SELECT 1 AS test_col\"\n",
        "# df = client.query(sql).result().to_dataframe()\n",
        "# print(\"Rows:\", len(df))\n",
        "# df.head()\n"
      ]
    },
    {
      "cell_type": "markdown",
      "id": "6c63c1ce",
      "metadata": {
        "id": "6c63c1ce"
      },
      "source": [
        "\n",
        "### C3. Save notebooks to GitHub from Colab\n",
        "**Use:** Step‑by‑Step Reasoning.  \n",
        "**Run this prompt:**\n",
        "```\n",
        "Give two safe workflows to keep Colab notebooks versioned in GitHub:\n",
        "(A) using \"File > Save a copy in GitHub\",\n",
        "(B) local git with Drive sync (brief).\n",
        "Provide steps and cautions (e.g., large outputs, secrets) for each.\n",
        "```\n",
        "**Reflection:** Which workflow will your team adopt and why?\n"
      ]
    },
    {
      "cell_type": "markdown",
      "id": "a181717a",
      "metadata": {
        "id": "a181717a"
      },
      "source": [
        "\n",
        "---\n",
        "## Capstone Synthesis (end of class)\n",
        "\n",
        "**Scenario:** Your team needs a reproducible workflow for this course: team repo on GitHub, branching, Colab auth to BigQuery, and a PR checklist.\n",
        "\n",
        "**Run this prompt:**\n",
        "```\n",
        "Act as a DevEx lead for a university analytics team.\n",
        "Produce a one-page \"Runbook\" with:\n",
        "- Repo structure (folders for notebooks, data, dashboards, docs)\n",
        "- Branching model (who creates branches, when to merge)\n",
        "- Colab ↔ BigQuery quickstart (auth, sample query, cost-safe LIMIT)\n",
        "- PR checklist (max 8 bullets) and protection rules for main\n",
        "- Two risks + mitigations (e.g., secrets leakage, merge conflicts)\n",
        "Use concise bullets and keep it classroom-ready.\n",
        "```\n",
        "\n",
        "**Paste your final runbook below (or attach as a Markdown file in your repo) and add a 3‑bullet reflection on what you changed after validation.**\n"
      ]
    },
    {
      "cell_type": "markdown",
      "id": "0aa9e3a2",
      "metadata": {
        "id": "0aa9e3a2"
      },
      "source": [
        "\n",
        "---\n",
        "## Submission Checklist (to your team repo + Brightspace link)\n",
        "\n",
        "- [ ] All **Reflection** sections completed (A1–A3, B1–B3, C1–C3, Capstone).\n",
        "- [ ] Any code snippets pasted are **validated** and include a 1‑line explanation.\n",
        "- [ ] Notebook runs top‑to‑bottom without errors (where code cells exist).\n",
        "- [ ] Commit message: `week2.1-prompt-practice` and open a PR for review.\n",
        "- [ ] Add this notebook path to your repo **README.md** under Week 2.1.\n"
      ]
    },
    {
      "cell_type": "markdown",
      "metadata": {
        "id": "58281e3f"
      },
      "source": [
        "**Reflection:** Which one will your team use for this course and why?"
      ],
      "id": "58281e3f"
    },
    {
      "cell_type": "code",
      "metadata": {
        "id": "f2a96732"
      },
      "source": [
        "# Run this prompt to generate a PR checklist\n",
        "# Write a \"PR Checklist\" for a university analytics course team repo.\n",
        "# Include: naming convention, description template, screenshots policy, reviewers, CI checks (if any),\n",
        "# and a revert plan. Limit to 8 concise checklist items."
      ],
      "id": "f2a96732",
      "execution_count": 1,
      "outputs": []
    },
    {
      "cell_type": "markdown",
      "metadata": {
        "id": "3c09d087"
      },
      "source": [
        "Here's how to protect the `main` branch in your GitHub repo for a class team:\n",
        "\n",
        "**Setup Guide:**\n",
        "\n",
        "1.  Go to your repository on GitHub.\n",
        "2.  Click on **Settings**.\n",
        "3.  In the left sidebar, click on **Branches**.\n",
        "4.  Under \"Branch protection rules\", click **Add rule**.\n",
        "5.  In the \"Branch name pattern\" field, type `main`.\n",
        "6.  Check the box for **Require pull request reviews before merging**.\n",
        "7.  Set \"Required approving reviews\" to `1`.\n",
        "8.  (Optional) Check the box for **Require status checks to pass before merging**. You would need to set up CI checks (like running tests or linters) for this to be effective.\n",
        "9.  Check the box for **Include administrators**.\n",
        "10. Check the box for **Require linear history**.\n",
        "11. Check the box for **Do not allow bypassing the above settings**.\n",
        "12. Click **Create**.\n",
        "\n",
        "**Why this matters:**\n",
        "\n",
        "*   Prevents accidental or unauthorized direct pushes to `main`, ensuring all changes go through review.\n",
        "*   Requires at least one other team member to approve changes, improving code quality and catching potential errors.\n",
        "*   Maintains a clean and stable `main` branch, making it easier to track the project's progress and reducing merge conflicts."
      ],
      "id": "3c09d087"
    },
    {
      "cell_type": "markdown",
      "metadata": {
        "id": "0c0ea188"
      },
      "source": [
        "**Reflection:** Which two advantages will help *you* most this semester?"
      ],
      "id": "0c0ea188"
    },
    {
      "cell_type": "markdown",
      "source": [
        "Colab being able to connect directly to drive and being a web notebook makes it extremely easy to use. I know for a fact it will save me a lot of time over the semester."
      ],
      "metadata": {
        "id": "1matPwZDABbw"
      },
      "id": "1matPwZDABbw"
    },
    {
      "cell_type": "code",
      "metadata": {
        "id": "e761aa4b"
      },
      "source": [
        "# Minimal BigQuery test in Colab (paste your validated version)\n",
        "# from google.colab import auth\n",
        "# auth.authenticate_user()\n",
        "#\n",
        "# from google.cloud import bigquery\n",
        "# client = bigquery.Client(project=\"<YOUR_PROJECT_ID>\")\n",
        "# sql = \"SELECT 1 AS test_col\"\n",
        "# df = client.query(sql).result().to_dataframe()\n",
        "# print(\"Rows:\", len(df))\n",
        "# df.head()\n",
        "\n",
        "# Note on costs and LIMIT: BigQuery charges per query; use LIMIT during development to control costs."
      ],
      "id": "e761aa4b",
      "execution_count": 2,
      "outputs": []
    }
  ],
  "metadata": {
    "colab": {
      "provenance": [],
      "include_colab_link": true
    },
    "language_info": {
      "name": "python"
    },
    "kernelspec": {
      "name": "python3",
      "display_name": "Python 3"
    }
  },
  "nbformat": 4,
  "nbformat_minor": 5
}